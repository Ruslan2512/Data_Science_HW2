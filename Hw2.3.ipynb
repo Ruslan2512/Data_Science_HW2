{
 "cells": [
  {
   "cell_type": "code",
   "execution_count": 1,
   "id": "0e5df4b0",
   "metadata": {
    "scrolled": true
   },
   "outputs": [
    {
     "name": "stdout",
     "output_type": "stream",
     "text": [
      "                                                  Name  \\\n",
      "0                        10-Day Green Smoothie Cleanse   \n",
      "1                                    11/22/63: A Novel   \n",
      "2              12 Rules for Life: An Antidote to Chaos   \n",
      "3                               1984 (Signet Classics)   \n",
      "4    5,000 Awesome Facts (About Everything!) (Natio...   \n",
      "..                                                 ...   \n",
      "545       Wrecking Ball (Diary of a Wimpy Kid Book 14)   \n",
      "546  You Are a Badass: How to Stop Doubting Your Gr...   \n",
      "547  You Are a Badass: How to Stop Doubting Your Gr...   \n",
      "548  You Are a Badass: How to Stop Doubting Your Gr...   \n",
      "549  You Are a Badass: How to Stop Doubting Your Gr...   \n",
      "\n",
      "                       Author  User Rating  Reviews  Price  Year        Genre  \n",
      "0                    JJ Smith          4.7    17350      8  2016  Non Fiction  \n",
      "1                Stephen King          4.6     2052     22  2011      Fiction  \n",
      "2          Jordan B. Peterson          4.7    18979     15  2018  Non Fiction  \n",
      "3               George Orwell          4.7    21424      6  2017      Fiction  \n",
      "4    National Geographic Kids          4.8     7665     12  2019  Non Fiction  \n",
      "..                        ...          ...      ...    ...   ...          ...  \n",
      "545               Jeff Kinney          4.9     9413      8  2019      Fiction  \n",
      "546               Jen Sincero          4.7    14331      8  2016  Non Fiction  \n",
      "547               Jen Sincero          4.7    14331      8  2017  Non Fiction  \n",
      "548               Jen Sincero          4.7    14331      8  2018  Non Fiction  \n",
      "549               Jen Sincero          4.7    14331      8  2019  Non Fiction  \n",
      "\n",
      "[550 rows x 7 columns]\n"
     ]
    }
   ],
   "source": [
    "import pandas as pd\n",
    "#Прочитайте csv файл (використовуйте функцію read_csv)\n",
    "df = pd.read_csv('bestsellers with categories.csv')\n",
    "print(df)"
   ]
  },
  {
   "cell_type": "code",
   "execution_count": 79,
   "id": "75287ea7",
   "metadata": {
    "scrolled": true
   },
   "outputs": [
    {
     "data": {
      "text/html": [
       "<div>\n",
       "<style scoped>\n",
       "    .dataframe tbody tr th:only-of-type {\n",
       "        vertical-align: middle;\n",
       "    }\n",
       "\n",
       "    .dataframe tbody tr th {\n",
       "        vertical-align: top;\n",
       "    }\n",
       "\n",
       "    .dataframe thead th {\n",
       "        text-align: right;\n",
       "    }\n",
       "</style>\n",
       "<table border=\"1\" class=\"dataframe\">\n",
       "  <thead>\n",
       "    <tr style=\"text-align: right;\">\n",
       "      <th></th>\n",
       "      <th>name</th>\n",
       "      <th>author</th>\n",
       "      <th>user_rating</th>\n",
       "      <th>reviews</th>\n",
       "      <th>price</th>\n",
       "      <th>year</th>\n",
       "      <th>genre</th>\n",
       "    </tr>\n",
       "  </thead>\n",
       "  <tbody>\n",
       "    <tr>\n",
       "      <th>0</th>\n",
       "      <td>10-Day Green Smoothie Cleanse</td>\n",
       "      <td>JJ Smith</td>\n",
       "      <td>4.7</td>\n",
       "      <td>17350</td>\n",
       "      <td>8</td>\n",
       "      <td>2016</td>\n",
       "      <td>Non Fiction</td>\n",
       "    </tr>\n",
       "    <tr>\n",
       "      <th>1</th>\n",
       "      <td>11/22/63: A Novel</td>\n",
       "      <td>Stephen King</td>\n",
       "      <td>4.6</td>\n",
       "      <td>2052</td>\n",
       "      <td>22</td>\n",
       "      <td>2011</td>\n",
       "      <td>Fiction</td>\n",
       "    </tr>\n",
       "    <tr>\n",
       "      <th>2</th>\n",
       "      <td>12 Rules for Life: An Antidote to Chaos</td>\n",
       "      <td>Jordan B. Peterson</td>\n",
       "      <td>4.7</td>\n",
       "      <td>18979</td>\n",
       "      <td>15</td>\n",
       "      <td>2018</td>\n",
       "      <td>Non Fiction</td>\n",
       "    </tr>\n",
       "    <tr>\n",
       "      <th>3</th>\n",
       "      <td>1984 (Signet Classics)</td>\n",
       "      <td>George Orwell</td>\n",
       "      <td>4.7</td>\n",
       "      <td>21424</td>\n",
       "      <td>6</td>\n",
       "      <td>2017</td>\n",
       "      <td>Fiction</td>\n",
       "    </tr>\n",
       "    <tr>\n",
       "      <th>4</th>\n",
       "      <td>5,000 Awesome Facts (About Everything!) (Natio...</td>\n",
       "      <td>National Geographic Kids</td>\n",
       "      <td>4.8</td>\n",
       "      <td>7665</td>\n",
       "      <td>12</td>\n",
       "      <td>2019</td>\n",
       "      <td>Non Fiction</td>\n",
       "    </tr>\n",
       "  </tbody>\n",
       "</table>\n",
       "</div>"
      ],
      "text/plain": [
       "                                                name  \\\n",
       "0                      10-Day Green Smoothie Cleanse   \n",
       "1                                  11/22/63: A Novel   \n",
       "2            12 Rules for Life: An Antidote to Chaos   \n",
       "3                             1984 (Signet Classics)   \n",
       "4  5,000 Awesome Facts (About Everything!) (Natio...   \n",
       "\n",
       "                     author  user_rating  reviews  price  year        genre  \n",
       "0                  JJ Smith          4.7    17350      8  2016  Non Fiction  \n",
       "1              Stephen King          4.6     2052     22  2011      Fiction  \n",
       "2        Jordan B. Peterson          4.7    18979     15  2018  Non Fiction  \n",
       "3             George Orwell          4.7    21424      6  2017      Fiction  \n",
       "4  National Geographic Kids          4.8     7665     12  2019  Non Fiction  "
      ]
     },
     "execution_count": 79,
     "metadata": {},
     "output_type": "execute_result"
    }
   ],
   "source": [
    "#Виведіть перші п'ять рядків (використовується функція head)\n",
    "df.head(5)"
   ]
  },
  {
   "cell_type": "code",
   "execution_count": 3,
   "id": "d76c5cf6",
   "metadata": {},
   "outputs": [
    {
     "name": "stdout",
     "output_type": "stream",
     "text": [
      "Про скільки книг зберігає дані датасет? Відповідь: 550\n"
     ]
    }
   ],
   "source": [
    "#Виведіть розміри датасету (використовуйте атрибут shape)\n",
    "print(f\"Про скільки книг зберігає дані датасет? Відповідь: {df.shape[0]}\")"
   ]
  },
  {
   "cell_type": "code",
   "execution_count": 4,
   "id": "36ca9e87",
   "metadata": {
    "scrolled": true
   },
   "outputs": [
    {
     "name": "stdout",
     "output_type": "stream",
     "text": [
      "                                                  name  \\\n",
      "0                        10-Day Green Smoothie Cleanse   \n",
      "1                                    11/22/63: A Novel   \n",
      "2              12 Rules for Life: An Antidote to Chaos   \n",
      "3                               1984 (Signet Classics)   \n",
      "4    5,000 Awesome Facts (About Everything!) (Natio...   \n",
      "..                                                 ...   \n",
      "545       Wrecking Ball (Diary of a Wimpy Kid Book 14)   \n",
      "546  You Are a Badass: How to Stop Doubting Your Gr...   \n",
      "547  You Are a Badass: How to Stop Doubting Your Gr...   \n",
      "548  You Are a Badass: How to Stop Doubting Your Gr...   \n",
      "549  You Are a Badass: How to Stop Doubting Your Gr...   \n",
      "\n",
      "                       author  user_rating  reviews  price  year        genre  \n",
      "0                    JJ Smith          4.7    17350      8  2016  Non Fiction  \n",
      "1                Stephen King          4.6     2052     22  2011      Fiction  \n",
      "2          Jordan B. Peterson          4.7    18979     15  2018  Non Fiction  \n",
      "3               George Orwell          4.7    21424      6  2017      Fiction  \n",
      "4    National Geographic Kids          4.8     7665     12  2019  Non Fiction  \n",
      "..                        ...          ...      ...    ...   ...          ...  \n",
      "545               Jeff Kinney          4.9     9413      8  2019      Fiction  \n",
      "546               Jen Sincero          4.7    14331      8  2016  Non Fiction  \n",
      "547               Jen Sincero          4.7    14331      8  2017  Non Fiction  \n",
      "548               Jen Sincero          4.7    14331      8  2018  Non Fiction  \n",
      "549               Jen Sincero          4.7    14331      8  2019  Non Fiction  \n",
      "\n",
      "[550 rows x 7 columns]\n"
     ]
    }
   ],
   "source": [
    "df.columns = ['name', 'author', 'user_rating', 'reviews', 'price', 'year', 'genre']\n",
    "print(df)"
   ]
  },
  {
   "cell_type": "code",
   "execution_count": 5,
   "id": "1227282c",
   "metadata": {},
   "outputs": [
    {
     "data": {
      "text/plain": [
       "name           0.0\n",
       "author         0.0\n",
       "user_rating    0.0\n",
       "reviews        0.0\n",
       "price          0.0\n",
       "year           0.0\n",
       "genre          0.0\n",
       "dtype: float64"
      ]
     },
     "execution_count": 5,
     "metadata": {},
     "output_type": "execute_result"
    }
   ],
   "source": [
    "#Перевірте, чи у всіх рядків вистачає даних: виведіть кількість пропусків (na) у кожному зі стовпців (використовуйте функції isna та sum)\n",
    "df.isna().sum()/len(df)"
   ]
  },
  {
   "cell_type": "code",
   "execution_count": 6,
   "id": "6ecd3aff",
   "metadata": {},
   "outputs": [],
   "source": [
    "#Чи є в якихось змінних пропуски? Відповідь: Ні"
   ]
  },
  {
   "cell_type": "code",
   "execution_count": 7,
   "id": "d2cead56",
   "metadata": {},
   "outputs": [
    {
     "name": "stdout",
     "output_type": "stream",
     "text": [
      "Які є унікальні жанри? Відповідь: ['Non Fiction' 'Fiction']\n"
     ]
    }
   ],
   "source": [
    "#Перевірте, які є унікальні значення в колонці genre (використовуйте функцію unique)\n",
    "print(f\"Які є унікальні жанри? Відповідь: {pd.unique(df['genre'])}\")"
   ]
  },
  {
   "cell_type": "code",
   "execution_count": 8,
   "id": "b9f8fd8e",
   "metadata": {
    "scrolled": true
   },
   "outputs": [
    {
     "data": {
      "text/plain": [
       "<AxesSubplot:ylabel='Frequency'>"
      ]
     },
     "execution_count": 8,
     "metadata": {},
     "output_type": "execute_result"
    },
    {
     "data": {
      "image/png": "[encoded data removed]",
      "text/plain": [
       "<Figure size 432x288 with 1 Axes>"
      ]
     },
     "metadata": {
      "needs_background": "light"
     },
     "output_type": "display_data"
    }
   ],
   "source": [
    "#Тепер подивіться на розподіл цін: побудуйте діаграму (використовуйте kind='hist')\n",
    "import seaborn as sns\n",
    "df['price'].plot(kind=\"hist\")"
   ]
  },
  {
   "cell_type": "code",
   "execution_count": 9,
   "id": "93bfa08b",
   "metadata": {},
   "outputs": [
    {
     "name": "stdout",
     "output_type": "stream",
     "text": [
      "Максимальна ціна? Відповідь: 105\n",
      "Мінімальна ціна? Відповідь: 0\n",
      "Середня ціна? Відповідь: 13.1\n",
      "Медіанна ціна? Відповідь: 11.0\n"
     ]
    }
   ],
   "source": [
    "#Визначте, яка ціна у нас максимальна, мінімальна, середня, медіанна (використовуйте функції max, min, mean, median)\n",
    "print(f\"Максимальна ціна? Відповідь: {df['price'].max()}\")\n",
    "print(f\"Мінімальна ціна? Відповідь: {df['price'].min()}\")\n",
    "print(f\"Середня ціна? Відповідь: {df['price'].mean()}\")\n",
    "print(f\"Медіанна ціна? Відповідь: {df['price'].median()}\")"
   ]
  },
  {
   "cell_type": "code",
   "execution_count": 10,
   "id": "495e2708",
   "metadata": {
    "scrolled": false
   },
   "outputs": [
    {
     "name": "stdout",
     "output_type": "stream",
     "text": [
      "Який рейтинг у датасеті найвищий? Відповідь: 4.9\n",
      "Скільки книг мають такий рейтинг? Відповідь: 52\n",
      "Яка книга має найбільше відгуків? Відповідь:\n",
      "                        name       author  user_rating  reviews  price  year  \\\n",
      "534  Where the Crawdads Sing  Delia Owens          4.8    87841     15  2019   \n",
      "\n",
      "       genre  \n",
      "534  Fiction  \n"
     ]
    }
   ],
   "source": [
    "#Пошук та сортування даних\n",
    "print(f\"Який рейтинг у датасеті найвищий? Відповідь: {df['user_rating'].max()}\")\n",
    "print(f\"Скільки книг мають такий рейтинг? Відповідь: {df['user_rating'].value_counts()[df['user_rating'].max()]}\")\n",
    "print(f\"Яка книга має найбільше відгуків? Відповідь:\\n{df[df['reviews']==df['reviews'].max()]}\")"
   ]
  },
  {
   "cell_type": "code",
   "execution_count": 11,
   "id": "2ec116de",
   "metadata": {},
   "outputs": [
    {
     "data": {
      "text/html": [
       "<div>\n",
       "<style scoped>\n",
       "    .dataframe tbody tr th:only-of-type {\n",
       "        vertical-align: middle;\n",
       "    }\n",
       "\n",
       "    .dataframe tbody tr th {\n",
       "        vertical-align: top;\n",
       "    }\n",
       "\n",
       "    .dataframe thead th {\n",
       "        text-align: right;\n",
       "    }\n",
       "</style>\n",
       "<table border=\"1\" class=\"dataframe\">\n",
       "  <thead>\n",
       "    <tr style=\"text-align: right;\">\n",
       "      <th></th>\n",
       "      <th>name</th>\n",
       "      <th>author</th>\n",
       "      <th>price</th>\n",
       "      <th>year</th>\n",
       "    </tr>\n",
       "  </thead>\n",
       "  <tbody>\n",
       "    <tr>\n",
       "      <th>277</th>\n",
       "      <td>Publication Manual of the American Psychologic...</td>\n",
       "      <td>American Psychological Association</td>\n",
       "      <td>46</td>\n",
       "      <td>2015</td>\n",
       "    </tr>\n",
       "  </tbody>\n",
       "</table>\n",
       "</div>"
      ],
      "text/plain": [
       "                                                  name  \\\n",
       "277  Publication Manual of the American Psychologic...   \n",
       "\n",
       "                                 author  price  year  \n",
       "277  American Psychological Association     46  2015  "
      ]
     },
     "execution_count": 11,
     "metadata": {},
     "output_type": "execute_result"
    }
   ],
   "source": [
    "#З тих книг, що потрапили до Топ-50 у 2015 році, яка книга найдорожча (можна використати проміжний датафрейм)? Відповідь:\n",
    "def select_columns(data_frame, column_names):\n",
    "    return data_frame.loc[:, column_names]\n",
    "selected_columns = ['name', 'author', 'price', 'year' ]\n",
    "tables_new = select_columns(df, selected_columns)\n",
    "tables_2015 = tables_new.loc[tables_new['year'] == 2015]\n",
    "tables_2015[tables_2015['price']==tables_2015['price'].max()]"
   ]
  },
  {
   "cell_type": "code",
   "execution_count": 12,
   "id": "c4d7c712",
   "metadata": {},
   "outputs": [
    {
     "name": "stdout",
     "output_type": "stream",
     "text": [
      "Скільки книг жанру Fiction потрапили до Топ-50 у 2010 році (використовуйте &)? Відповідь: 20\n",
      "Скільки книг з рейтингом 4.9 потрапило до рейтингу у 2010 та 2011 роках (використовуйте | або функцію isin)? Відповідь: 1\n"
     ]
    }
   ],
   "source": [
    "print(f\"Скільки книг жанру Fiction потрапили до Топ-50 у 2010 році (використовуйте &)? Відповідь: {df.loc[(df['year']==2010) & (df['genre']=='Fiction')].shape[0]}\")\n",
    "print(f\"Скільки книг з рейтингом 4.9 потрапило до рейтингу у 2010 та 2011 роках (використовуйте | або функцію isin)? Відповідь: {df.loc[((df['year']==2010 | 2011) & (df['user_rating']==4.9))].shape[0]}\")"
   ]
  },
  {
   "cell_type": "code",
   "execution_count": 13,
   "id": "17589c2e",
   "metadata": {},
   "outputs": [
    {
     "name": "stdout",
     "output_type": "stream",
     "text": [
      "                                                  name              author  \\\n",
      "507                              To Kill a Mockingbird          Harper Lee   \n",
      "210                      Laugh-Out-Loud Jokes for Kids         Rob Elliott   \n",
      "206                         Knock-Knock Jokes for Kids         Rob Elliott   \n",
      "111                                    First 100 Words        Roger Priddy   \n",
      "123                               Giraffes Can't Dance       Giles Andreae   \n",
      "54   Creative Haven Creative Cats Coloring Book (Ad...     Marjorie Sarnat   \n",
      "63                      Dear Zoo: A Lift-the-Flap Book        Rod Campbell   \n",
      "89   Dover Creative Haven Art Nouveau Animal Design...         Marty Noble   \n",
      "478                        The Very Hungry Caterpillar          Eric Carle   \n",
      "201  Killing Reagan: The Violent Assault That Chang...       Bill O'Reilly   \n",
      "28                        Baby Touch and Feel: Animals                  DK   \n",
      "224                                   Love You Forever       Robert Munsch   \n",
      "55   Creative Haven Owls Coloring Book (Adult Color...     Marjorie Sarnat   \n",
      "17      Adult Coloring Book: Stress Relieving Patterns  Blue Star Coloring   \n",
      "376  The Four Agreements: A Practical Guide to Pers...     Don Miguel Ruiz   \n",
      "16   Adult Coloring Book: Stress Relieving Animal D...  Blue Star Coloring   \n",
      "253              Old School (Diary of a Wimpy Kid #10)         Jeff Kinney   \n",
      "\n",
      "     user_rating  reviews  price  year        genre  \n",
      "507          4.8    26234      0  2015      Fiction  \n",
      "210          4.6     6990      4  2015  Non Fiction  \n",
      "206          4.5     3673      4  2015  Non Fiction  \n",
      "111          4.7    17323      4  2015  Non Fiction  \n",
      "123          4.8    14038      4  2015      Fiction  \n",
      "54           4.8     4022      4  2015  Non Fiction  \n",
      "63           4.8    10922      5  2015      Fiction  \n",
      "89           4.6     2134      5  2015  Non Fiction  \n",
      "478          4.9    19546      5  2015      Fiction  \n",
      "201          4.6     5235      5  2015  Non Fiction  \n",
      "28           4.6     5360      5  2015  Non Fiction  \n",
      "224          4.8    18613      5  2015      Fiction  \n",
      "55           4.8     3871      5  2015  Non Fiction  \n",
      "17           4.4     2951      6  2015  Non Fiction  \n",
      "376          4.7    23308      6  2015  Non Fiction  \n",
      "16           4.6     2925      6  2015  Non Fiction  \n",
      "253          4.8     6169      7  2015      Fiction  \n"
     ]
    }
   ],
   "source": [
    "#І насамкінець, давайте відсортуємо за зростанням ціни всі книги, які потрапили до рейтингу в 2015 році і коштують дешевше за 8 доларів (використовуйте функцію sort_values).\n",
    "sort_vls = df.loc[(df['year']==2015) & (df['price']<8)].sort_values(by='price')\n",
    "print(sort_vls)"
   ]
  },
  {
   "cell_type": "code",
   "execution_count": 14,
   "id": "3e6ff0e4",
   "metadata": {},
   "outputs": [
    {
     "name": "stdout",
     "output_type": "stream",
     "text": [
      "Яка книга остання у відсортованому списку? Відповідь:                                       name       author  user_rating  reviews  \\\n",
      "253  Old School (Diary of a Wimpy Kid #10)  Jeff Kinney          4.8     6169   \n",
      "\n",
      "     price  year    genre  \n",
      "253      7  2015  Fiction  \n"
     ]
    }
   ],
   "source": [
    "print(f\"Яка книга остання у відсортованому списку? Відповідь: {sort_vls.tail(1)}\")"
   ]
  },
  {
   "cell_type": "code",
   "execution_count": 15,
   "id": "39a00e4e",
   "metadata": {},
   "outputs": [
    {
     "name": "stdout",
     "output_type": "stream",
     "text": [
      "Максимальна ціна для жанру Fiction: Відповідь 82\n",
      "Мінімальна  ціна для жанру Fiction: Відповідь 0\n",
      "Максимальна ціна для жанру Non Fiction: Відповідь 105\n",
      "Мінімальна ціна для жанру Non Fiction: Відповідь 0\n"
     ]
    }
   ],
   "source": [
    "#Агрегування даних та з'єднання таблиць\n",
    "print(f\"Максимальна ціна для жанру Fiction: Відповідь {df[df['genre'] == 'Fiction']['price'].max()}\")\n",
    "print(f\"Мінімальна  ціна для жанру Fiction: Відповідь {df[df['genre'] == 'Fiction']['price'].min()}\")\n",
    "print(f\"Максимальна ціна для жанру Non Fiction: Відповідь {df[df['genre'] == 'Non Fiction']['price'].max()}\")\n",
    "print(f\"Мінімальна ціна для жанру Non Fiction: Відповідь {df[df['genre'] == 'Non Fiction']['price'].min()}\")"
   ]
  },
  {
   "cell_type": "code",
   "execution_count": 42,
   "id": "2058ab89",
   "metadata": {},
   "outputs": [],
   "source": [
    "def select_columns(data_frame, column_names):\n",
    "    return data_frame.loc[:, column_names]\n",
    "selected_columns = ['name', 'author']\n",
    "new_df = select_columns(df, selected_columns)\n",
    "group_new_df = new_df.groupby(['author']).count()"
   ]
  },
  {
   "cell_type": "code",
   "execution_count": 17,
   "id": "5daa3067",
   "metadata": {},
   "outputs": [
    {
     "name": "stdout",
     "output_type": "stream",
     "text": [
      "Якої розмірності вийшла таблиця? Відповідь: (248, 1)\n",
      "Який автор має найбільше книг? Відповідь:\n",
      "             name\n",
      "author           \n",
      "Jeff Kinney    12\n",
      "Скільки книг цього автора? Відповідь:              name\n",
      "author           \n",
      "Jeff Kinney    12\n"
     ]
    }
   ],
   "source": [
    "print(f\"Якої розмірності вийшла таблиця? Відповідь: {group_new_df.shape}\")\n",
    "print(f\"Який автор має найбільше книг? Відповідь:\\n{group_new_df[group_new_df['name']==group_new_df['name'].max()]}\")\n",
    "print(f\"Скільки книг цього автора? Відповідь: {group_new_df[group_new_df['name']==group_new_df['name'].max()]}\")"
   ]
  },
  {
   "cell_type": "code",
   "execution_count": 43,
   "id": "a91c4c4a",
   "metadata": {},
   "outputs": [],
   "source": [
    "def select_columns1(data_frame, column_names):\n",
    "    return data_frame.loc[:, column_names]\n",
    "selected_columns1 = ['author', 'user_rating']\n",
    "df1 = select_columns1(df, selected_columns1)\n",
    "group_df1 = df1.groupby(['author']).mean().round(1)"
   ]
  },
  {
   "cell_type": "code",
   "execution_count": 40,
   "id": "31d1c56b",
   "metadata": {},
   "outputs": [
    {
     "name": "stdout",
     "output_type": "stream",
     "text": [
      "У якого автора середній рейтинг мінімальний? Відповідь:\n",
      "             user_rating\n",
      "author                  \n",
      "Donna Tartt          3.9\n",
      "Який у цього автора середній рейтинг? Відповідь:\n",
      "             user_rating\n",
      "author                  \n",
      "Donna Tartt          3.9\n"
     ]
    }
   ],
   "source": [
    "print(f\"У якого автора середній рейтинг мінімальний? Відповідь:\\n{group_df1[group_df1['user_rating']==group_df1['user_rating'].min()]}\")\n",
    "print(f\"Який у цього автора середній рейтинг? Відповідь:\\n{group_df1[group_df1['user_rating']==group_df1['user_rating'].min()]}\")"
   ]
  },
  {
   "cell_type": "code",
   "execution_count": 48,
   "id": "b5a4cad9",
   "metadata": {},
   "outputs": [
    {
     "name": "stdout",
     "output_type": "stream",
     "text": [
      "                                    name  user_rating\n",
      "author                                               \n",
      "Muriel Barbery                         1          4.0\n",
      "Chris Cleave                           1          4.1\n",
      "Ian K. Smith M.D.                      1          4.1\n",
      "Pierre Dukan                           1          4.1\n",
      "Elizabeth Strout                       1          4.2\n",
      "...                                  ...          ...\n",
      "American Psychological Association    10          4.5\n",
      "Gary Chapman                          11          4.7\n",
      "Suzanne Collins                       11          4.7\n",
      "Rick Riordan                          11          4.8\n",
      "Jeff Kinney                           12          4.8\n",
      "\n",
      "[248 rows x 2 columns]\n"
     ]
    }
   ],
   "source": [
    "#З'єднайте останні два датафрейми так, щоб для кожного автора було видно кількість книг та середній рейтинг (Використовуйте функцію concat з параметром axis=1). Збережіть результат у змінну\n",
    "#Відсортуйте датафрейм за зростаючою кількістю книг та зростаючим рейтингом (використовуйте функцію sort_values)\n",
    "full_df = pd.concat([group_new_df, group_df1], axis=1)\n",
    "full_df = full_df.sort_values(by=['name', 'user_rating'])\n",
    "print(full_df)"
   ]
  },
  {
   "cell_type": "code",
   "execution_count": 62,
   "id": "0a3f2641",
   "metadata": {
    "scrolled": true
   },
   "outputs": [
    {
     "name": "stdout",
     "output_type": "stream",
     "text": [
      "Який автор перший у списку? Відповідь:\n",
      "                name  user_rating\n",
      "author                           \n",
      "Muriel Barbery     1          4.0\n"
     ]
    }
   ],
   "source": [
    "print(f\"Який автор перший у списку? Відповідь:\\n{full_df.head(1)}\")"
   ]
  }
 ],
 "metadata": {
  "kernelspec": {
   "display_name": "Python 3 (ipykernel)",
   "language": "python",
   "name": "python3"
  },
  "language_info": {
   "codemirror_mode": {
    "name": "ipython",
    "version": 3
   },
   "file_extension": ".py",
   "mimetype": "text/x-python",
   "name": "python",
   "nbconvert_exporter": "python",
   "pygments_lexer": "ipython3",
   "version": "3.9.7"
  }
 },
 "nbformat": 4,
 "nbformat_minor": 5
}
