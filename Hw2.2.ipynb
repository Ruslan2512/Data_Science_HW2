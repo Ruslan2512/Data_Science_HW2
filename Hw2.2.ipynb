{
 "cells": [
  {
   "cell_type": "code",
   "execution_count": 105,
   "id": "9eeb5d98",
   "metadata": {},
   "outputs": [],
   "source": [
    "import pandas as pd"
   ]
  },
  {
   "cell_type": "code",
   "execution_count": 106,
   "id": "9b52265d",
   "metadata": {
    "scrolled": true
   },
   "outputs": [
    {
     "name": "stdout",
     "output_type": "stream",
     "text": [
      "         N                 Должность Язык.программирования Специализация  \\\n",
      "0        1        Junior QA engineer                   NaN     Manual QA   \n",
      "1        2        Junior QA engineer                   NaN     Manual QA   \n",
      "2        3         Software Engineer               C#/.NET           NaN   \n",
      "3        4         Software Engineer            JavaScript           NaN   \n",
      "4        5  Senior Software Engineer            JavaScript           NaN   \n",
      "...    ...                       ...                   ...           ...   \n",
      "8699  8700               QA engineer                   NaN     Manual QA   \n",
      "8700  8701                 Marketing                   NaN           NaN   \n",
      "8701  8702  Junior Software Engineer            Ruby/Rails           NaN   \n",
      "8702  8703                 Team lead                   NaN           NaN   \n",
      "8703  8704  Senior Software Engineer                  Java           NaN   \n",
      "\n",
      "     Общий.опыт.работы Опыт.работы.на.текущем.месте  Зарплата.в.месяц  \\\n",
      "0                  0.5                          0.5               400   \n",
      "1     меньше 3 месяцев             меньше 3 месяцев               430   \n",
      "2                    4                            1              2500   \n",
      "3                    5                            4              2000   \n",
      "4       10 и более лет                          0.5              4500   \n",
      "...                ...                          ...               ...   \n",
      "8699                 1             меньше 3 месяцев               700   \n",
      "8700               0.5                          0.5               400   \n",
      "8701                 1                          0.5               800   \n",
      "8702                 6                            4              2600   \n",
      "8703                 7                            2              5000   \n",
      "\n",
      "      Изменение.зарплаты.за.12.месяцев    Город     Размер.компании  ...  \\\n",
      "0                                    0  Харьков       до 10 человек  ...   \n",
      "1                                  130  Харьков  свыше 1000 человек  ...   \n",
      "2                                  800     Киев     до 1000 человек  ...   \n",
      "3                                  400   Одесса      до 200 человек  ...   \n",
      "4                                  500   Другой       до 10 человек  ...   \n",
      "...                                ...      ...                 ...  ...   \n",
      "8699                               700   Одесса       до 50 человек  ...   \n",
      "8700                               120     Киев       до 50 человек  ...   \n",
      "8701                               500    Львов       до 10 человек  ...   \n",
      "8702                                 0    Днепр  свыше 1000 человек  ...   \n",
      "8703                               800   Одесса     до 1000 человек  ...   \n",
      "\n",
      "     Еще.студент Уровень.английского                    Предметная.область  \\\n",
      "0           True       ниже среднего                         iOS,eCommerce   \n",
      "1           True       выше среднего                        Веб-разработка   \n",
      "2          False             средний  Веб-разработка,Корпоративные системы   \n",
      "3          False       ниже среднего   Desktop Applications,Веб-разработка   \n",
      "4          False             средний   Desktop Applications,Веб-разработка   \n",
      "...          ...                 ...                                   ...   \n",
      "8699       False             средний          Android,Desktop Applications   \n",
      "8700       False       ниже среднего                             eCommerce   \n",
      "8701       False       выше среднего  Веб-разработка,Корпоративные системы   \n",
      "8702       False         продвинутый                       Финансы и банки   \n",
      "8703       False       выше среднего                        Веб-разработка   \n",
      "\n",
      "          Дата.заполнения                                         User.Agent  \\\n",
      "0     12/06/2017 12:38:08  Mozilla/5.0 (Windows NT 10.0; Win64; x64) Appl...   \n",
      "1     12/06/2017 12:42:51  Mozilla/5.0 (iPad; CPU OS 10_2_1 like Mac OS X...   \n",
      "2     12/06/2017 13:02:47  Mozilla/5.0 (Windows NT 10.0; Win64; x64) Appl...   \n",
      "3     12/06/2017 13:03:01  Mozilla/5.0 (Windows NT 6.1; Win64; x64) Apple...   \n",
      "4     12/06/2017 13:03:47  Mozilla/5.0 (iPhone; CPU iPhone OS 10_3_2 like...   \n",
      "...                   ...                                                ...   \n",
      "8699  12/07/2017 15:45:24  Mozilla/5.0 (X11; Ubuntu; Linux x86_64; rv:54....   \n",
      "8700  12/07/2017 17:00:06  Mozilla/5.0 (Windows NT 10.0; Win64; x64) Appl...   \n",
      "8701  12/07/2017 17:32:26  Mozilla/5.0 (X11; Linux x86_64) AppleWebKit/53...   \n",
      "8702  12/07/2017 18:14:59  Mozilla/5.0 (Windows NT 6.1) AppleWebKit/537.3...   \n",
      "8703  12/07/2017 21:28:57  Mozilla/5.0 (iPad; CPU OS 10_3_2 like Mac OS X...   \n",
      "\n",
      "       exp current_job_exp salary Валюта  cls  \n",
      "0      0.5             0.5    400    NaN   QA  \n",
      "1      0.0             0.0    430    NaN   QA  \n",
      "2      4.0             1.0   2500    NaN  DEV  \n",
      "3      5.0             4.0   2000    NaN  DEV  \n",
      "4     10.0             0.5   4500    NaN  DEV  \n",
      "...    ...             ...    ...    ...  ...  \n",
      "8699   1.0             0.0    700    NaN   QA  \n",
      "8700   0.5             0.5    400    NaN  NaN  \n",
      "8701   1.0             0.5    800    NaN  DEV  \n",
      "8702   6.0             4.0   2600    NaN   PM  \n",
      "8703   7.0             2.0   5000    NaN  DEV  \n",
      "\n",
      "[8704 rows x 25 columns]\n"
     ]
    }
   ],
   "source": [
    "#Прочитайте файл 2017_jun_final.csv за допомогою методу read_csv\n",
    "read_csv = pd.read_csv(\"2017_jun_final.csv\")\n",
    "print(read_csv)"
   ]
  },
  {
   "cell_type": "code",
   "execution_count": 107,
   "id": "a2035312",
   "metadata": {
    "scrolled": true
   },
   "outputs": [
    {
     "name": "stdout",
     "output_type": "stream",
     "text": [
      "<bound method NDFrame.head of          N                 Должность Язык.программирования Специализация  \\\n",
      "0        1        Junior QA engineer                   NaN     Manual QA   \n",
      "1        2        Junior QA engineer                   NaN     Manual QA   \n",
      "2        3         Software Engineer               C#/.NET           NaN   \n",
      "3        4         Software Engineer            JavaScript           NaN   \n",
      "4        5  Senior Software Engineer            JavaScript           NaN   \n",
      "...    ...                       ...                   ...           ...   \n",
      "8699  8700               QA engineer                   NaN     Manual QA   \n",
      "8700  8701                 Marketing                   NaN           NaN   \n",
      "8701  8702  Junior Software Engineer            Ruby/Rails           NaN   \n",
      "8702  8703                 Team lead                   NaN           NaN   \n",
      "8703  8704  Senior Software Engineer                  Java           NaN   \n",
      "\n",
      "     Общий.опыт.работы Опыт.работы.на.текущем.месте  Зарплата.в.месяц  \\\n",
      "0                  0.5                          0.5               400   \n",
      "1     меньше 3 месяцев             меньше 3 месяцев               430   \n",
      "2                    4                            1              2500   \n",
      "3                    5                            4              2000   \n",
      "4       10 и более лет                          0.5              4500   \n",
      "...                ...                          ...               ...   \n",
      "8699                 1             меньше 3 месяцев               700   \n",
      "8700               0.5                          0.5               400   \n",
      "8701                 1                          0.5               800   \n",
      "8702                 6                            4              2600   \n",
      "8703                 7                            2              5000   \n",
      "\n",
      "      Изменение.зарплаты.за.12.месяцев    Город     Размер.компании  ...  \\\n",
      "0                                    0  Харьков       до 10 человек  ...   \n",
      "1                                  130  Харьков  свыше 1000 человек  ...   \n",
      "2                                  800     Киев     до 1000 человек  ...   \n",
      "3                                  400   Одесса      до 200 человек  ...   \n",
      "4                                  500   Другой       до 10 человек  ...   \n",
      "...                                ...      ...                 ...  ...   \n",
      "8699                               700   Одесса       до 50 человек  ...   \n",
      "8700                               120     Киев       до 50 человек  ...   \n",
      "8701                               500    Львов       до 10 человек  ...   \n",
      "8702                                 0    Днепр  свыше 1000 человек  ...   \n",
      "8703                               800   Одесса     до 1000 человек  ...   \n",
      "\n",
      "     Еще.студент Уровень.английского                    Предметная.область  \\\n",
      "0           True       ниже среднего                         iOS,eCommerce   \n",
      "1           True       выше среднего                        Веб-разработка   \n",
      "2          False             средний  Веб-разработка,Корпоративные системы   \n",
      "3          False       ниже среднего   Desktop Applications,Веб-разработка   \n",
      "4          False             средний   Desktop Applications,Веб-разработка   \n",
      "...          ...                 ...                                   ...   \n",
      "8699       False             средний          Android,Desktop Applications   \n",
      "8700       False       ниже среднего                             eCommerce   \n",
      "8701       False       выше среднего  Веб-разработка,Корпоративные системы   \n",
      "8702       False         продвинутый                       Финансы и банки   \n",
      "8703       False       выше среднего                        Веб-разработка   \n",
      "\n",
      "          Дата.заполнения                                         User.Agent  \\\n",
      "0     12/06/2017 12:38:08  Mozilla/5.0 (Windows NT 10.0; Win64; x64) Appl...   \n",
      "1     12/06/2017 12:42:51  Mozilla/5.0 (iPad; CPU OS 10_2_1 like Mac OS X...   \n",
      "2     12/06/2017 13:02:47  Mozilla/5.0 (Windows NT 10.0; Win64; x64) Appl...   \n",
      "3     12/06/2017 13:03:01  Mozilla/5.0 (Windows NT 6.1; Win64; x64) Apple...   \n",
      "4     12/06/2017 13:03:47  Mozilla/5.0 (iPhone; CPU iPhone OS 10_3_2 like...   \n",
      "...                   ...                                                ...   \n",
      "8699  12/07/2017 15:45:24  Mozilla/5.0 (X11; Ubuntu; Linux x86_64; rv:54....   \n",
      "8700  12/07/2017 17:00:06  Mozilla/5.0 (Windows NT 10.0; Win64; x64) Appl...   \n",
      "8701  12/07/2017 17:32:26  Mozilla/5.0 (X11; Linux x86_64) AppleWebKit/53...   \n",
      "8702  12/07/2017 18:14:59  Mozilla/5.0 (Windows NT 6.1) AppleWebKit/537.3...   \n",
      "8703  12/07/2017 21:28:57  Mozilla/5.0 (iPad; CPU OS 10_3_2 like Mac OS X...   \n",
      "\n",
      "       exp current_job_exp salary Валюта  cls  \n",
      "0      0.5             0.5    400    NaN   QA  \n",
      "1      0.0             0.0    430    NaN   QA  \n",
      "2      4.0             1.0   2500    NaN  DEV  \n",
      "3      5.0             4.0   2000    NaN  DEV  \n",
      "4     10.0             0.5   4500    NaN  DEV  \n",
      "...    ...             ...    ...    ...  ...  \n",
      "8699   1.0             0.0    700    NaN   QA  \n",
      "8700   0.5             0.5    400    NaN  NaN  \n",
      "8701   1.0             0.5    800    NaN  DEV  \n",
      "8702   6.0             4.0   2600    NaN   PM  \n",
      "8703   7.0             2.0   5000    NaN  DEV  \n",
      "\n",
      "[8704 rows x 25 columns]>\n"
     ]
    }
   ],
   "source": [
    "#Прочитайте отриману таблицю, використовуючи метод head\n",
    "print(read_csv.head)"
   ]
  },
  {
   "cell_type": "code",
   "execution_count": 108,
   "id": "709cda30",
   "metadata": {},
   "outputs": [
    {
     "name": "stdout",
     "output_type": "stream",
     "text": [
      "(8704, 25)\n"
     ]
    }
   ],
   "source": [
    "#Визначте розмір таблиці за допомогою методу shape\n",
    "print(read_csv.shape)"
   ]
  },
  {
   "cell_type": "code",
   "execution_count": 109,
   "id": "a4dc331d",
   "metadata": {
    "scrolled": true
   },
   "outputs": [
    {
     "name": "stdout",
     "output_type": "stream",
     "text": [
      "N                                     int64\n",
      "Должность                            object\n",
      "Язык.программирования                object\n",
      "Специализация                        object\n",
      "Общий.опыт.работы                    object\n",
      "Опыт.работы.на.текущем.месте         object\n",
      "Зарплата.в.месяц                      int64\n",
      "Изменение.зарплаты.за.12.месяцев      int64\n",
      "Город                                object\n",
      "Размер.компании                      object\n",
      "Тип.компании                         object\n",
      "Пол                                  object\n",
      "Возраст                               int64\n",
      "Образование                          object\n",
      "Университет                          object\n",
      "Еще.студент                            bool\n",
      "Уровень.английского                  object\n",
      "Предметная.область                   object\n",
      "Дата.заполнения                      object\n",
      "User.Agent                           object\n",
      "exp                                 float64\n",
      "current_job_exp                     float64\n",
      "salary                                int64\n",
      "Валюта                               object\n",
      "cls                                  object\n",
      "dtype: object\n"
     ]
    }
   ],
   "source": [
    "#Визначте типи всіх стовпців за допомогою dataframe.dtypes\n",
    "print(read_csv.dtypes)"
   ]
  },
  {
   "cell_type": "code",
   "execution_count": 110,
   "id": "80ee582a",
   "metadata": {
    "scrolled": true
   },
   "outputs": [
    {
     "name": "stdout",
     "output_type": "stream",
     "text": [
      "N                                   0.000000\n",
      "Должность                           0.000000\n",
      "Язык.программирования               0.442325\n",
      "Специализация                       0.829389\n",
      "Общий.опыт.работы                   0.000000\n",
      "Опыт.работы.на.текущем.месте        0.000000\n",
      "Зарплата.в.месяц                    0.000000\n",
      "Изменение.зарплаты.за.12.месяцев    0.000000\n",
      "Город                               0.000000\n",
      "Размер.компании                     0.000000\n",
      "Тип.компании                        0.000000\n",
      "Пол                                 0.000000\n",
      "Возраст                             0.000000\n",
      "Образование                         0.000000\n",
      "Университет                         0.041131\n",
      "Еще.студент                         0.000000\n",
      "Уровень.английского                 0.000000\n",
      "Предметная.область                  0.025620\n",
      "Дата.заполнения                     0.000000\n",
      "User.Agent                          0.000000\n",
      "exp                                 0.000000\n",
      "current_job_exp                     0.000000\n",
      "salary                              0.000000\n",
      "Валюта                              0.998851\n",
      "cls                                 0.180836\n",
      "dtype: float64\n"
     ]
    }
   ],
   "source": [
    "#Порахуйте, яка частка пропусків міститься в кожній колонці (використовуйте методи isnull та sum)\n",
    "t_sum = read_csv.isnull().sum()/len(read_csv)\n",
    "print(t_sum)"
   ]
  },
  {
   "cell_type": "code",
   "execution_count": 111,
   "id": "1a0efaeb",
   "metadata": {},
   "outputs": [
    {
     "name": "stdout",
     "output_type": "stream",
     "text": [
      "0              NaN\n",
      "1              NaN\n",
      "2          C#/.NET\n",
      "3       JavaScript\n",
      "4       JavaScript\n",
      "           ...    \n",
      "8699           NaN\n",
      "8700           NaN\n",
      "8701    Ruby/Rails\n",
      "8702           NaN\n",
      "8703          Java\n",
      "Name: Язык.программирования, Length: 8704, dtype: object\n"
     ]
    }
   ],
   "source": [
    "#Видаліть усі стовпці з пропусками, крім стовпця \"Мова програмування\"\n",
    "lang_prog = read_csv.loc[:, 'Язык.программирования']\n",
    "print(lang_prog)"
   ]
  },
  {
   "cell_type": "code",
   "execution_count": 112,
   "id": "1c4d8fd5",
   "metadata": {},
   "outputs": [
    {
     "name": "stdout",
     "output_type": "stream",
     "text": [
      "0.4423253676470588\n"
     ]
    }
   ],
   "source": [
    "#Знову порахуйте, яка частка пропусків міститься в кожній колонці і переконайтеся, що залишився тільки стовпець \"Мова.програмування\"\n",
    "t_sum = lang_prog.isnull().sum()/len(lang_prog)\n",
    "print(t_sum)"
   ]
  },
  {
   "cell_type": "code",
   "execution_count": 113,
   "id": "8a17e4c6",
   "metadata": {
    "scrolled": true
   },
   "outputs": [
    {
     "name": "stdout",
     "output_type": "stream",
     "text": [
      "2          C#/.NET\n",
      "3       JavaScript\n",
      "4       JavaScript\n",
      "6          C#/.NET\n",
      "7              C++\n",
      "           ...    \n",
      "8692          Java\n",
      "8694       C#/.NET\n",
      "8695        Python\n",
      "8701    Ruby/Rails\n",
      "8703          Java\n",
      "Name: Язык.программирования, Length: 4854, dtype: object\n"
     ]
    }
   ],
   "source": [
    "#Видаліть усі рядки у вихідній таблиці за допомогою методу dropna\n",
    "df = lang_prog.dropna()\n",
    "print(df)"
   ]
  },
  {
   "cell_type": "code",
   "execution_count": 114,
   "id": "aa27b5b4",
   "metadata": {},
   "outputs": [
    {
     "name": "stdout",
     "output_type": "stream",
     "text": [
      "(4854,)\n"
     ]
    }
   ],
   "source": [
    "#Визначте новий розмір таблиці за допомогою методу shape\n",
    "print(df.shape)"
   ]
  },
  {
   "cell_type": "code",
   "execution_count": 115,
   "id": "de064151",
   "metadata": {
    "scrolled": true
   },
   "outputs": [
    {
     "name": "stdout",
     "output_type": "stream",
     "text": [
      "         N                 Должность Язык.программирования Специализация  \\\n",
      "12      13         Software Engineer                Python           NaN   \n",
      "68      69         Software Engineer                Python           NaN   \n",
      "87      88  Junior Software Engineer                Python           NaN   \n",
      "114    115  Junior Software Engineer                Python           NaN   \n",
      "143    144  Junior Software Engineer                Python           NaN   \n",
      "...    ...                       ...                   ...           ...   \n",
      "8546  8547         Software Engineer                Python           NaN   \n",
      "8625  8626         Software Engineer                Python           NaN   \n",
      "8635  8636  Senior Software Engineer                Python           NaN   \n",
      "8673  8674  Junior Software Engineer                Python           NaN   \n",
      "8695  8696         Software Engineer                Python           NaN   \n",
      "\n",
      "     Общий.опыт.работы Опыт.работы.на.текущем.месте  Зарплата.в.месяц  \\\n",
      "12                   1             меньше 3 месяцев               800   \n",
      "68                 1.5                          0.5               900   \n",
      "87                 0.5                          0.5               600   \n",
      "114                1.5                          0.5               685   \n",
      "143                  1                            1               750   \n",
      "...                ...                          ...               ...   \n",
      "8546                 5                            1              2000   \n",
      "8625                 4                            1              1750   \n",
      "8635    10 и более лет             меньше 3 месяцев              4000   \n",
      "8673               0.5                          0.5               350   \n",
      "8695                 1                          0.5              1500   \n",
      "\n",
      "      Изменение.зарплаты.за.12.месяцев      Город     Размер.компании  ...  \\\n",
      "12                                 200       Киев       до 50 человек  ...   \n",
      "68                                 900       Киев       до 10 человек  ...   \n",
      "87                                   0       Киев       до 10 человек  ...   \n",
      "114                                250       Киев     до 1000 человек  ...   \n",
      "143                                250       Киев       до 10 человек  ...   \n",
      "...                                ...        ...                 ...  ...   \n",
      "8546                               800  Запорожье       до 50 человек  ...   \n",
      "8625                                 0       Киев  свыше 1000 человек  ...   \n",
      "8635                              1300   Удаленно       до 10 человек  ...   \n",
      "8673                                50       Киев       до 50 человек  ...   \n",
      "8695                              1000       Киев       до 10 человек  ...   \n",
      "\n",
      "     Еще.студент Уровень.английского         Предметная.область  \\\n",
      "12         False       ниже среднего      Веб-разработка,Другое   \n",
      "68          True       выше среднего             Веб-разработка   \n",
      "87          True       выше среднего   Веб-разработка,eCommerce   \n",
      "114        False             средний                     Другое   \n",
      "143         True       выше среднего             Веб-разработка   \n",
      "...          ...                 ...                        ...   \n",
      "8546       False             средний             Веб-разработка   \n",
      "8625       False             средний             Веб-разработка   \n",
      "8635       False       выше среднего             Веб-разработка   \n",
      "8673       False             средний             Веб-разработка   \n",
      "8695       False             средний  Финансы и банки,eCommerce   \n",
      "\n",
      "          Дата.заполнения                                         User.Agent  \\\n",
      "12    12/06/2017 13:05:54  Mozilla/5.0 (Windows NT 6.1; Win64; x64) Apple...   \n",
      "68    12/06/2017 13:11:17  Mozilla/5.0 (Windows NT 10.0; Win64; x64) Appl...   \n",
      "87    12/06/2017 13:12:25  Mozilla/5.0 (X11; Linux x86_64) AppleWebKit/53...   \n",
      "114   12/06/2017 13:14:52  Mozilla/5.0 (X11; Linux x86_64) AppleWebKit/53...   \n",
      "143   12/06/2017 13:19:10  Mozilla/5.0 (X11; Linux x86_64) AppleWebKit/53...   \n",
      "...                   ...                                                ...   \n",
      "8546  10/07/2017 14:11:26  Mozilla/5.0 (Macintosh; Intel Mac OS X 10_12_5...   \n",
      "8625  11/07/2017 16:15:40  Mozilla/5.0 (X11; Ubuntu; Linux x86_64; rv:54....   \n",
      "8635  11/07/2017 17:51:36  Mozilla/5.0 (X11; Linux x86_64) AppleWebKit/53...   \n",
      "8673  12/07/2017 09:37:16  Mozilla/5.0 (X11; Ubuntu; Linux x86_64; rv:54....   \n",
      "8695  12/07/2017 14:39:21  Mozilla/5.0 (X11; Linux x86_64) AppleWebKit/53...   \n",
      "\n",
      "       exp current_job_exp salary Валюта  cls  \n",
      "12     1.0             0.0    800    NaN  DEV  \n",
      "68     1.5             0.5    900    NaN  DEV  \n",
      "87     0.5             0.5    600    NaN  DEV  \n",
      "114    1.5             0.5    685    NaN  DEV  \n",
      "143    1.0             1.0    750    NaN  DEV  \n",
      "...    ...             ...    ...    ...  ...  \n",
      "8546   5.0             1.0   2000    NaN  DEV  \n",
      "8625   4.0             1.0   1750    NaN  DEV  \n",
      "8635  10.0             0.0   4000    NaN  DEV  \n",
      "8673   0.5             0.5    350    NaN  DEV  \n",
      "8695   1.0             0.5   1500    NaN  DEV  \n",
      "\n",
      "[207 rows x 25 columns]\n"
     ]
    }
   ],
   "source": [
    "#Створіть нову таблицю python_data, в якій будуть тільки рядки зі спеціалістами, які вказали мову програмування Python\n",
    "df = pd.read_csv(\"2017_jun_final.csv\")\n",
    "python_data = pd.DataFrame(df[df.isin(['Python']).any(axis= 1 )])\n",
    "print(python_data)"
   ]
  },
  {
   "cell_type": "code",
   "execution_count": 116,
   "id": "5acae3c9",
   "metadata": {},
   "outputs": [
    {
     "name": "stdout",
     "output_type": "stream",
     "text": [
      "(207, 25)\n"
     ]
    }
   ],
   "source": [
    "#Визначте розмір таблиці python_data за допомогою методу shape\n",
    "a = python_data.shape\n",
    "print(a)"
   ]
  },
  {
   "cell_type": "code",
   "execution_count": 117,
   "id": "87f43315",
   "metadata": {
    "scrolled": true
   },
   "outputs": [
    {
     "name": "stdout",
     "output_type": "stream",
     "text": [
      "         N                 Должность Язык.программирования Специализация  \\\n",
      "12      13         Software Engineer                Python           NaN   \n",
      "68      69         Software Engineer                Python           NaN   \n",
      "87      88  Junior Software Engineer                Python           NaN   \n",
      "114    115  Junior Software Engineer                Python           NaN   \n",
      "143    144  Junior Software Engineer                Python           NaN   \n",
      "...    ...                       ...                   ...           ...   \n",
      "8546  8547         Software Engineer                Python           NaN   \n",
      "8625  8626         Software Engineer                Python           NaN   \n",
      "8635  8636  Senior Software Engineer                Python           NaN   \n",
      "8673  8674  Junior Software Engineer                Python           NaN   \n",
      "8695  8696         Software Engineer                Python           NaN   \n",
      "\n",
      "     Общий.опыт.работы Опыт.работы.на.текущем.месте  Зарплата.в.месяц  \\\n",
      "12                   1             меньше 3 месяцев               800   \n",
      "68                 1.5                          0.5               900   \n",
      "87                 0.5                          0.5               600   \n",
      "114                1.5                          0.5               685   \n",
      "143                  1                            1               750   \n",
      "...                ...                          ...               ...   \n",
      "8546                 5                            1              2000   \n",
      "8625                 4                            1              1750   \n",
      "8635    10 и более лет             меньше 3 месяцев              4000   \n",
      "8673               0.5                          0.5               350   \n",
      "8695                 1                          0.5              1500   \n",
      "\n",
      "      Изменение.зарплаты.за.12.месяцев      Город     Размер.компании  ...  \\\n",
      "12                                 200       Киев       до 50 человек  ...   \n",
      "68                                 900       Киев       до 10 человек  ...   \n",
      "87                                   0       Киев       до 10 человек  ...   \n",
      "114                                250       Киев     до 1000 человек  ...   \n",
      "143                                250       Киев       до 10 человек  ...   \n",
      "...                                ...        ...                 ...  ...   \n",
      "8546                               800  Запорожье       до 50 человек  ...   \n",
      "8625                                 0       Киев  свыше 1000 человек  ...   \n",
      "8635                              1300   Удаленно       до 10 человек  ...   \n",
      "8673                                50       Киев       до 50 человек  ...   \n",
      "8695                              1000       Киев       до 10 человек  ...   \n",
      "\n",
      "     Еще.студент Уровень.английского         Предметная.область  \\\n",
      "12         False       ниже среднего      Веб-разработка,Другое   \n",
      "68          True       выше среднего             Веб-разработка   \n",
      "87          True       выше среднего   Веб-разработка,eCommerce   \n",
      "114        False             средний                     Другое   \n",
      "143         True       выше среднего             Веб-разработка   \n",
      "...          ...                 ...                        ...   \n",
      "8546       False             средний             Веб-разработка   \n",
      "8625       False             средний             Веб-разработка   \n",
      "8635       False       выше среднего             Веб-разработка   \n",
      "8673       False             средний             Веб-разработка   \n",
      "8695       False             средний  Финансы и банки,eCommerce   \n",
      "\n",
      "          Дата.заполнения                                         User.Agent  \\\n",
      "12    12/06/2017 13:05:54  Mozilla/5.0 (Windows NT 6.1; Win64; x64) Apple...   \n",
      "68    12/06/2017 13:11:17  Mozilla/5.0 (Windows NT 10.0; Win64; x64) Appl...   \n",
      "87    12/06/2017 13:12:25  Mozilla/5.0 (X11; Linux x86_64) AppleWebKit/53...   \n",
      "114   12/06/2017 13:14:52  Mozilla/5.0 (X11; Linux x86_64) AppleWebKit/53...   \n",
      "143   12/06/2017 13:19:10  Mozilla/5.0 (X11; Linux x86_64) AppleWebKit/53...   \n",
      "...                   ...                                                ...   \n",
      "8546  10/07/2017 14:11:26  Mozilla/5.0 (Macintosh; Intel Mac OS X 10_12_5...   \n",
      "8625  11/07/2017 16:15:40  Mozilla/5.0 (X11; Ubuntu; Linux x86_64; rv:54....   \n",
      "8635  11/07/2017 17:51:36  Mozilla/5.0 (X11; Linux x86_64) AppleWebKit/53...   \n",
      "8673  12/07/2017 09:37:16  Mozilla/5.0 (X11; Ubuntu; Linux x86_64; rv:54....   \n",
      "8695  12/07/2017 14:39:21  Mozilla/5.0 (X11; Linux x86_64) AppleWebKit/53...   \n",
      "\n",
      "       exp current_job_exp salary Валюта  cls  \n",
      "12     1.0             0.0    800    NaN  DEV  \n",
      "68     1.5             0.5    900    NaN  DEV  \n",
      "87     0.5             0.5    600    NaN  DEV  \n",
      "114    1.5             0.5    685    NaN  DEV  \n",
      "143    1.0             1.0    750    NaN  DEV  \n",
      "...    ...             ...    ...    ...  ...  \n",
      "8546   5.0             1.0   2000    NaN  DEV  \n",
      "8625   4.0             1.0   1750    NaN  DEV  \n",
      "8635  10.0             0.0   4000    NaN  DEV  \n",
      "8673   0.5             0.5    350    NaN  DEV  \n",
      "8695   1.0             0.5   1500    NaN  DEV  \n",
      "\n",
      "[207 rows x 25 columns]\n",
      "<pandas.core.groupby.generic.DataFrameGroupBy object at 0x0000018CDEF6E9A0>\n"
     ]
    }
   ],
   "source": [
    "#Використовуючи метод groupby, виконайте групування за стовпчиком \"Посада\"\n",
    "b = python_data.groupby(['Должность'])\n",
    "print(python_data)\n",
    "print(b)"
   ]
  },
  {
   "cell_type": "code",
   "execution_count": 139,
   "id": "db2b63a4",
   "metadata": {},
   "outputs": [
    {
     "name": "stdout",
     "output_type": "stream",
     "text": [
      "     Зарплата.в.месяц\n",
      "max              9200\n",
      "min               100\n"
     ]
    }
   ],
   "source": [
    "#Створіть новий DataFrame, де для згрупованих даних за стовпчиком \"Посада\", виконайте агрегацію даних за допомогою методу agg і знайдіть мінімальне та максимальне значення у стовпчику \"Зарплата.в.місяць\"\n",
    "new_df = pd.DataFrame(python_data)\n",
    "agg_df = new_df.agg({'Зарплата.в.месяц' : ['max', 'min']})\n",
    "print(agg_df)"
   ]
  },
  {
   "cell_type": "code",
   "execution_count": 140,
   "id": "41f4c2f8",
   "metadata": {},
   "outputs": [],
   "source": [
    "#Створіть функцію fill_avg_salary, яка повертатиме середнє значення заробітної плати на місяць. Використовуйте її для методу apply та створіть новий стовпчик \"avg\"\n",
    "def fill_avg_salary(scl):\n",
    "    return scl.mean()\n",
    "agg_df['avg'] = agg_df.apply(fill_avg_salary, axis=1)"
   ]
  },
  {
   "cell_type": "code",
   "execution_count": 141,
   "id": "dcfa5181",
   "metadata": {},
   "outputs": [
    {
     "name": "stdout",
     "output_type": "stream",
     "text": [
      "       Зарплата.в.месяц          avg\n",
      "count          2.000000     2.000000\n",
      "mean        4650.000000  4650.000000\n",
      "std         6434.671709  6434.671709\n",
      "min          100.000000   100.000000\n",
      "25%         2375.000000  2375.000000\n",
      "50%         4650.000000  4650.000000\n",
      "75%         6925.000000  6925.000000\n",
      "max         9200.000000  9200.000000\n"
     ]
    }
   ],
   "source": [
    "#Створіть описову статистику за допомогою методу describe для нового стовпчика.\n",
    "print(agg_df.describe())"
   ]
  },
  {
   "cell_type": "code",
   "execution_count": 142,
   "id": "29149d85",
   "metadata": {},
   "outputs": [],
   "source": [
    "#Збережіть отриману таблицю в CSV файл\n",
    "agg_df.to_csv(\"salary.csv\", index=False)"
   ]
  },
  {
   "cell_type": "code",
   "execution_count": 163,
   "id": "b8a5b5eb",
   "metadata": {
    "scrolled": false
   },
   "outputs": [
    {
     "data": {
      "image/png": "[encoded data removed]",
      "text/plain": [
       "<Figure size 432x288 with 1 Axes>"
      ]
     },
     "metadata": {},
     "output_type": "display_data"
    }
   ],
   "source": [
    "import matplotlib.pyplot as plt\n",
    "\n",
    "developers = [\n",
    "    \"Junior <750$\",\n",
    "    \"Middle 750-3000$\",\n",
    "    \"Senior 3000$+\"\n",
    "]\n",
    "\n",
    "salary = [new_df[new_df['Зарплата.в.месяц'] >= 750].shape[0],\n",
    "        new_df[750 > new_df['Зарплата.в.месяц']].shape[0] + new_df[new_df['Зарплата.в.месяц'] <= 3000].shape[0],\n",
    "        new_df[3000 > new_df['Зарплата.в.месяц']].shape[0]\n",
    "       ]\n",
    "explode = [0.15, 0, 0]\n",
    "plt.pie(\n",
    "    salary,\n",
    "    labels=developers,\n",
    "    explode=explode,\n",
    "    autopct=\"%.2f%%\",\n",
    "    pctdistance=1.15,\n",
    "    labeldistance=1.5,\n",
    ")\n",
    "\n",
    "plt.show()"
   ]
  },
  {
   "cell_type": "code",
   "execution_count": null,
   "id": "7cd3733f",
   "metadata": {},
   "outputs": [],
   "source": []
  }
 ],
 "metadata": {
  "kernelspec": {
   "display_name": "Python 3 (ipykernel)",
   "language": "python",
   "name": "python3"
  },
  "language_info": {
   "codemirror_mode": {
    "name": "ipython",
    "version": 3
   },
   "file_extension": ".py",
   "mimetype": "text/x-python",
   "name": "python",
   "nbconvert_exporter": "python",
   "pygments_lexer": "ipython3",
   "version": "3.9.7"
  }
 },
 "nbformat": 4,
 "nbformat_minor": 5
}
